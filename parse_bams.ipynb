{
 "cells": [
  {
   "cell_type": "code",
   "execution_count": 1,
   "id": "8a9d8de8-921f-472b-81df-aefdba32d231",
   "metadata": {},
   "outputs": [],
   "source": [
    "import os\n",
    "import pandas as pd"
   ]
  },
  {
   "cell_type": "code",
   "execution_count": 2,
   "id": "5e8713f4-6ccf-4507-8e69-4265de79147c",
   "metadata": {},
   "outputs": [
    {
     "data": {
      "text/plain": [
       "50"
      ]
     },
     "execution_count": 2,
     "metadata": {},
     "output_type": "execute_result"
    }
   ],
   "source": [
    "bam_files = [xx for xx in os.listdir() if xx.endswith('.bam')]\n",
    "len(bam_files)"
   ]
  },
  {
   "cell_type": "code",
   "execution_count": 3,
   "id": "d8963b89-5696-48d7-8613-4c05f726b18c",
   "metadata": {},
   "outputs": [],
   "source": [
    "mut_dict = {\n",
    "    '1168':'caf1d_ccr4d',\n",
    "    '1022':'mot2d',\n",
    "    '1023':'mot2d',\n",
    "    '301':'swi6d',\n",
    "    '302':'clr3d',\n",
    "    '324':'chp2d',\n",
    "    '491':'mit1d',\n",
    "    '504':'rrp6d',\n",
    "    '510':'caf1d',\n",
    "    #'523':'unknown_1',\n",
    "    '523':'unknown',\n",
    "    #'524':'unknown_2',\n",
    "    '524':'unknown',\n",
    "    '530':'exo2d',\n",
    "    '544':'ccr4d',\n",
    "    '591':'caf1d',\n",
    "    '638':'ago1d',\n",
    "    '80':'clr4d',\n",
    "    '63':'wt', \n",
    "    '65':'wt',\n",
    "    'WT':'wt',\n",
    "    'fake-reads':'fake-reads'\n",
    "}"
   ]
  },
  {
   "cell_type": "code",
   "execution_count": 4,
   "id": "c3b23ee3-0467-4451-a16a-2660ce933512",
   "metadata": {},
   "outputs": [],
   "source": [
    "seq_dict = {\n",
    "    'S2-ChIP':'S2ChIP', \n",
    "    'S2-ChIP-INPUT':'INPUT',\n",
    "    'S2-ChIP-OIN':'INPUT',\n",
    "    'H3K9me2':'H3K9me2'\n",
    "}"
   ]
  },
  {
   "cell_type": "code",
   "execution_count": 5,
   "id": "a241a90d-e4bd-4a53-827d-041a1a269080",
   "metadata": {},
   "outputs": [],
   "source": [
    "bam_df = pd.DataFrame({'bam_file':bam_files})\n",
    "bam_df[\"sample_id\"] = bam_df[\"bam_file\"].map(lambda x: x.split(\".\")[0])\n",
    "bam_df[['mutant_id', 'seq_type', 'replicate']] = bam_df['sample_id'].str.split('_', n=3, expand=True)\n",
    "bam_df['mutant_name'] = bam_df['mutant_id'].map(mut_dict) # map to mutant names\n",
    "bam_df['seq_category'] = bam_df['seq_type'].map(seq_dict) # map to mutant names"
   ]
  },
  {
   "cell_type": "code",
   "execution_count": 6,
   "id": "4e1762bb-0eee-4243-b6de-3a259ad9c047",
   "metadata": {},
   "outputs": [],
   "source": [
    "bam_df = bam_df.sort_values(['seq_category', 'mutant_id', 'replicate']).reset_index(drop=True)\n",
    "bam_df = bam_df.sort_values(['mutant_id', 'replicate']).reset_index(drop=True)\n",
    "#bam_df"
   ]
  },
  {
   "cell_type": "code",
   "execution_count": 7,
   "id": "2afe5fb5-6e0f-40df-a7cb-5f675dc08942",
   "metadata": {},
   "outputs": [],
   "source": [
    "import string"
   ]
  },
  {
   "cell_type": "code",
   "execution_count": 8,
   "id": "8a01f222-6a1c-4d06-8e6b-800120fe0fe2",
   "metadata": {},
   "outputs": [],
   "source": [
    "template_string = (\n",
    "    \"track ${sample_id}\\n\"\n",
    "    \"bigDataUrl ${sample_id}.Aligned.sortedByCoord.out.bam\\n\"\n",
    "    \"shortLabel ${mutant_name} ${seq_category} ${replicate} reads\\n\"\n",
    "    \"longLabel ${mutant_name} ${seq_category} ${replicate} reads mapped with STAR\\n\"\n",
    "    \"type bam\\n\"\n",
    "    \"doWiggle on\\n\"\n",
    "    \"priority ${sample_idx}\\n\"\n",
    "    \"group ${seq_category}\\n\\n\"\n",
    ")"
   ]
  },
  {
   "cell_type": "code",
   "execution_count": 9,
   "id": "1d2cea61-eb8b-40ca-a960-016a2fd08140",
   "metadata": {},
   "outputs": [],
   "source": [
    "t = string.Template(template_string)"
   ]
  },
  {
   "cell_type": "code",
   "execution_count": 10,
   "id": "4912a665-a31a-4c72-9d53-b825063197c3",
   "metadata": {},
   "outputs": [],
   "source": [
    "file1 = open('trackDb_py.txt', 'w')"
   ]
  },
  {
   "cell_type": "code",
   "execution_count": 11,
   "id": "b13b8e3a-54d9-4f1a-b619-b49594775b47",
   "metadata": {},
   "outputs": [],
   "source": [
    "#for rr in bam_df[0:2].itertuples():\n",
    "for rr in bam_df.itertuples():\n",
    "    result = t.substitute(\n",
    "        sample_idx = str(rr.Index + 2),\n",
    "        sample_id = rr.sample_id,\n",
    "        mutant_name = rr.mutant_name,\n",
    "        seq_category = rr.seq_category,\n",
    "        replicate = rr.replicate,\n",
    "    )\n",
    "    #print(result)\n",
    "    file1.write(result)"
   ]
  },
  {
   "cell_type": "code",
   "execution_count": 12,
   "id": "9a214341-0f3e-4d47-aeaa-b1abd3c80e1d",
   "metadata": {},
   "outputs": [],
   "source": [
    "# Closing file\n",
    "file1.close()"
   ]
  },
  {
   "cell_type": "code",
   "execution_count": 13,
   "id": "b08075f6-98e9-4f93-98db-78fa74e606aa",
   "metadata": {},
   "outputs": [],
   "source": [
    "# # Checking if the data is\n",
    "# # written to file or not\n",
    "# file1 = open('myfile.txt', 'r')\n",
    "# print(file1.read())\n",
    "# file1.close()"
   ]
  },
  {
   "cell_type": "code",
   "execution_count": null,
   "id": "04f9397e-d0b1-4739-816d-92f658fa56ec",
   "metadata": {},
   "outputs": [],
   "source": []
  }
 ],
 "metadata": {
  "kernelspec": {
   "display_name": "Python 3 (ipykernel)",
   "language": "python",
   "name": "python3"
  },
  "language_info": {
   "codemirror_mode": {
    "name": "ipython",
    "version": 3
   },
   "file_extension": ".py",
   "mimetype": "text/x-python",
   "name": "python",
   "nbconvert_exporter": "python",
   "pygments_lexer": "ipython3",
   "version": "3.9.6"
  }
 },
 "nbformat": 4,
 "nbformat_minor": 5
}
